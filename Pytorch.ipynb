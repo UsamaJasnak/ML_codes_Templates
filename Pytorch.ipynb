{
  "nbformat": 4,
  "nbformat_minor": 0,
  "metadata": {
    "colab": {
      "provenance": [],
      "gpuType": "T4",
      "authorship_tag": "ABX9TyOrY+5BixuMjkOCln0XE8pr"
    },
    "kernelspec": {
      "name": "python3",
      "display_name": "Python 3"
    },
    "language_info": {
      "name": "python"
    },
    "accelerator": "GPU"
  },
  "cells": [
    {
      "cell_type": "markdown",
      "source": [
        "This is a learning notebook. The contents in this notebook are taken from various sources namely documentation"
      ],
      "metadata": {
        "id": "fsdh8iH1DgeJ"
      }
    },
    {
      "cell_type": "code",
      "source": [
        "import torch"
      ],
      "metadata": {
        "id": "RF4e_kSeGQtv"
      },
      "execution_count": 1,
      "outputs": []
    },
    {
      "cell_type": "markdown",
      "source": [
        "It is similar to numpy arrays."
      ],
      "metadata": {
        "id": "wbSvt7wEGXpj"
      }
    },
    {
      "cell_type": "markdown",
      "source": [
        "##Tensors  \n",
        "\n",
        "Tensors are a specialized data structure that are very similar to arrays and matrices. In PyTorch, we use tensors to encode the inputs and outputs of a model, as well as the model’s parameters.\n",
        "\n",
        "Tensors are similar to NumPy’s ndarrays, except that tensors can run on GPUs or other specialized hardware to accelerate computing. If you’re familiar with ndarrays, you’ll be right at home with the Tensor API. If not, follow along in this quick API walkthrough."
      ],
      "metadata": {
        "id": "gQ23hOpNCva-"
      }
    },
    {
      "cell_type": "code",
      "source": [
        "# Simple ways of creating a tensor\n",
        "\n",
        "x = torch.empty(3, 4)\n",
        "print(type(x))\n",
        "print(x)\n",
        "\n",
        "zeros = torch.zeros(2, 3)\n",
        "print(zeros)\n",
        "\n",
        "ones = torch.ones(2, 3)\n",
        "print(ones)\n",
        "\n"
      ],
      "metadata": {
        "colab": {
          "base_uri": "https://localhost:8080/"
        },
        "id": "E72mMq-cq56e",
        "outputId": "03bcd8a9-dda6-47e8-db79-9dc7f9b6d662"
      },
      "execution_count": 2,
      "outputs": [
        {
          "output_type": "stream",
          "name": "stdout",
          "text": [
            "<class 'torch.Tensor'>\n",
            "tensor([[0., 0., 0., 0.],\n",
            "        [0., 0., 0., 0.],\n",
            "        [0., 0., 0., 0.]])\n",
            "tensor([[0., 0., 0.],\n",
            "        [0., 0., 0.]])\n",
            "tensor([[1., 1., 1.],\n",
            "        [1., 1., 1.]])\n"
          ]
        }
      ]
    },
    {
      "cell_type": "markdown",
      "source": [
        "### dtypes in tensors\n",
        "Available data types include:\n",
        "\n",
        "- torch.bool\n",
        "- torch.int8\n",
        "- torch.uint8\n",
        "- torch.int16\n",
        "- torch.int32\n",
        "- torch.int64\n",
        "- torch.half\n",
        "- torch.float\n",
        "- torch.double\n",
        "- torch.bfloat"
      ],
      "metadata": {
        "id": "ILU6FdpotXfN"
      }
    },
    {
      "cell_type": "code",
      "source": [
        "z = torch.zeros(5, 3)\n",
        "print(z)\n",
        "print(z.dtype) # Note default dtype is float"
      ],
      "metadata": {
        "colab": {
          "base_uri": "https://localhost:8080/"
        },
        "id": "cZIRpwzqDZ5i",
        "outputId": "a9f743ce-799e-4c90-f57d-43c6109dcf3e"
      },
      "execution_count": 3,
      "outputs": [
        {
          "output_type": "stream",
          "name": "stdout",
          "text": [
            "tensor([[0., 0., 0.],\n",
            "        [0., 0., 0.],\n",
            "        [0., 0., 0.],\n",
            "        [0., 0., 0.],\n",
            "        [0., 0., 0.]])\n",
            "torch.float32\n"
          ]
        }
      ]
    },
    {
      "cell_type": "code",
      "source": [
        "i = torch.ones((5, 3), dtype=torch.int16) # Assigning a dtype\n",
        "print(i)"
      ],
      "metadata": {
        "colab": {
          "base_uri": "https://localhost:8080/"
        },
        "id": "HbRLunOFGOJY",
        "outputId": "c17af69d-a3fd-46de-df01-fe440d1f5f6d"
      },
      "execution_count": 4,
      "outputs": [
        {
          "output_type": "stream",
          "name": "stdout",
          "text": [
            "tensor([[1, 1, 1],\n",
            "        [1, 1, 1],\n",
            "        [1, 1, 1],\n",
            "        [1, 1, 1],\n",
            "        [1, 1, 1]], dtype=torch.int16)\n"
          ]
        }
      ]
    },
    {
      "cell_type": "code",
      "source": [
        "a = torch.ones((2, 3), dtype=torch.int16)\n",
        "print(a)\n",
        "\n",
        "b = torch.rand((2, 3), dtype=torch.float64) * 20.\n",
        "print(b)\n",
        "\n",
        "c = b.to(torch.int32)  # Changing the dtype of a tensor\n",
        "print(c)"
      ],
      "metadata": {
        "colab": {
          "base_uri": "https://localhost:8080/"
        },
        "id": "myXA5LSRtRwN",
        "outputId": "8d0a0525-1222-45c0-d36a-eb39fb27325b"
      },
      "execution_count": 5,
      "outputs": [
        {
          "output_type": "stream",
          "name": "stdout",
          "text": [
            "tensor([[1, 1, 1],\n",
            "        [1, 1, 1]], dtype=torch.int16)\n",
            "tensor([[ 8.2841,  9.0277, 14.0101],\n",
            "        [17.8955, 12.4802,  5.6579]], dtype=torch.float64)\n",
            "tensor([[ 8,  9, 14],\n",
            "        [17, 12,  5]], dtype=torch.int32)\n"
          ]
        }
      ]
    },
    {
      "cell_type": "code",
      "source": [
        "torch.manual_seed(1729)\n",
        "r1 = torch.rand(2, 2)\n",
        "print('A random tensor:')\n",
        "print(r1)\n",
        "\n",
        "r2 = torch.rand(2, 2)\n",
        "print('\\nA different random tensor:')\n",
        "print(r2) # new values\n",
        "\n",
        "torch.manual_seed(1729)\n",
        "r3 = torch.rand(2, 2)\n",
        "print('\\nShould match r1:')\n",
        "print(r3) # repeats values of r1 because of re-seed"
      ],
      "metadata": {
        "colab": {
          "base_uri": "https://localhost:8080/"
        },
        "id": "h_xC460VGtKY",
        "outputId": "9b184bb9-fd2a-437b-e9aa-cf5004936526"
      },
      "execution_count": 6,
      "outputs": [
        {
          "output_type": "stream",
          "name": "stdout",
          "text": [
            "A random tensor:\n",
            "tensor([[0.3126, 0.3791],\n",
            "        [0.3087, 0.0736]])\n",
            "\n",
            "A different random tensor:\n",
            "tensor([[0.4216, 0.0691],\n",
            "        [0.2332, 0.4047]])\n",
            "\n",
            "Should match r1:\n",
            "tensor([[0.3126, 0.3791],\n",
            "        [0.3087, 0.0736]])\n"
          ]
        }
      ]
    },
    {
      "cell_type": "code",
      "source": [
        "ones = torch.ones(2, 3)\n",
        "print(ones)\n",
        "\n",
        "twos = torch.ones(2, 3) * 2 # every element is multiplied by 2\n",
        "print(twos)\n",
        "\n",
        "threes = ones + twos       # addition allowed because shapes are similar\n",
        "print(threes)              # tensors are added element-wise\n",
        "print(threes.shape)        # this has the same dimensions as input tensors\n",
        "\n"
      ],
      "metadata": {
        "colab": {
          "base_uri": "https://localhost:8080/"
        },
        "id": "Obx3kMr5Glqw",
        "outputId": "7b38d51a-92a7-4852-fcac-7a65ce119f86"
      },
      "execution_count": 7,
      "outputs": [
        {
          "output_type": "stream",
          "name": "stdout",
          "text": [
            "tensor([[1., 1., 1.],\n",
            "        [1., 1., 1.]])\n",
            "tensor([[2., 2., 2.],\n",
            "        [2., 2., 2.]])\n",
            "tensor([[3., 3., 3.],\n",
            "        [3., 3., 3.]])\n",
            "torch.Size([2, 3])\n"
          ]
        }
      ]
    },
    {
      "cell_type": "markdown",
      "source": [
        "### Tensor Shapes\n",
        "Often, when you’re performing operations on two or more tensors, they will need to be of the same shape - that is, having the same number of dimensions and the same number of cells in each dimension. For that, we have the torch.*_like() methods:"
      ],
      "metadata": {
        "id": "mGTUlBo_rYVF"
      }
    },
    {
      "cell_type": "code",
      "source": [
        "x = torch.empty(2, 2, 3)  #Creates an empty tensor of the given shape\n",
        "print(x.shape)\n",
        "print(x)\n",
        "\n",
        "empty_like_x = torch.empty_like(x) # Creates an uninitialized tensor of the given shape(means allocating memory for a tensor without initializing its values.)\n",
        "print(empty_like_x.shape)\n",
        "print(empty_like_x)\n",
        "\n",
        "zeros_like_x = torch.zeros_like(x) # Creates a tensor of zeros with the same shape as x.\n",
        "print(zeros_like_x.shape)\n",
        "print(zeros_like_x)\n",
        "\n",
        "ones_like_x = torch.ones_like(x) #Creates a tensor of ones with the same shape as x.\n",
        "print(ones_like_x.shape)\n",
        "print(ones_like_x)\n",
        "\n",
        "rand_like_x = torch.rand_like(x) #Creates a tensor of random values with the same shape as x.\n",
        "print(rand_like_x.shape)\n",
        "print(rand_like_x)"
      ],
      "metadata": {
        "colab": {
          "base_uri": "https://localhost:8080/"
        },
        "id": "zb5y97KTrXfa",
        "outputId": "40464b55-96ec-4da7-ffab-ff0afdfdb491"
      },
      "execution_count": 8,
      "outputs": [
        {
          "output_type": "stream",
          "name": "stdout",
          "text": [
            "torch.Size([2, 2, 3])\n",
            "tensor([[[-1.1010e-09,  3.2747e-41, -1.0954e-09],\n",
            "         [ 3.2747e-41,  8.9683e-44,  0.0000e+00]],\n",
            "\n",
            "        [[ 1.1210e-43,  0.0000e+00, -2.8860e-07],\n",
            "         [ 7.0065e-45,  3.3661e-05,  4.4324e-41]]])\n",
            "torch.Size([2, 2, 3])\n",
            "tensor([[[ 1.1231e+13,  4.4324e-41,  1.1231e+13],\n",
            "         [ 4.4324e-41,  0.0000e+00,  1.1755e-38]],\n",
            "\n",
            "        [[-1.0718e-12,  3.2747e-41,  2.0000e+00],\n",
            "         [ 0.0000e+00, -1.1011e-09,  3.2747e-41]]])\n",
            "torch.Size([2, 2, 3])\n",
            "tensor([[[0., 0., 0.],\n",
            "         [0., 0., 0.]],\n",
            "\n",
            "        [[0., 0., 0.],\n",
            "         [0., 0., 0.]]])\n",
            "torch.Size([2, 2, 3])\n",
            "tensor([[[1., 1., 1.],\n",
            "         [1., 1., 1.]],\n",
            "\n",
            "        [[1., 1., 1.],\n",
            "         [1., 1., 1.]]])\n",
            "torch.Size([2, 2, 3])\n",
            "tensor([[[0.4216, 0.0691, 0.2332],\n",
            "         [0.4047, 0.2162, 0.9927]],\n",
            "\n",
            "        [[0.4128, 0.5938, 0.6128],\n",
            "         [0.1519, 0.0453, 0.5035]]])\n"
          ]
        }
      ]
    },
    {
      "cell_type": "code",
      "source": [
        "#Some other ways to create a tensor\n",
        "some_constants = torch.tensor([[3.1415926, 2.71828], [1.61803, 0.0072897]])\n",
        "print(some_constants)\n",
        "\n",
        "some_integers = torch.tensor((2, 3, 5, 7, 11, 13, 17, 19))\n",
        "print(some_integers)\n",
        "\n",
        "more_integers = torch.tensor(((2, 4, 6), [3, 6, 9]))\n",
        "print(more_integers)"
      ],
      "metadata": {
        "colab": {
          "base_uri": "https://localhost:8080/"
        },
        "id": "Qvb2TU5wtBTv",
        "outputId": "044a0c96-32a8-4645-9d7f-0ae7a6da77d1"
      },
      "execution_count": 9,
      "outputs": [
        {
          "output_type": "stream",
          "name": "stdout",
          "text": [
            "tensor([[3.1416, 2.7183],\n",
            "        [1.6180, 0.0073]])\n",
            "tensor([ 2,  3,  5,  7, 11, 13, 17, 19])\n",
            "tensor([[2, 4, 6],\n",
            "        [3, 6, 9]])\n"
          ]
        }
      ]
    },
    {
      "cell_type": "code",
      "source": [
        "print(torch.rand(2, 2)) #by Default torch.rand() has an interval of (0,1]\n",
        "\n",
        "# to change the interval\n",
        "a = 5  # lower bound\n",
        "b = 10 # upper bound\n",
        "a + (b - a) * torch.rand(2, 2)"
      ],
      "metadata": {
        "colab": {
          "base_uri": "https://localhost:8080/"
        },
        "id": "onJp7Zq2HjKi",
        "outputId": "77006fd1-f97c-40ec-f03b-ee4145146c22"
      },
      "execution_count": 10,
      "outputs": [
        {
          "output_type": "stream",
          "name": "stdout",
          "text": [
            "tensor([[0.9978, 0.3884],\n",
            "        [0.6929, 0.1703]])\n"
          ]
        },
        {
          "output_type": "execute_result",
          "data": {
            "text/plain": [
              "tensor([[5.6922, 7.3795],\n",
              "        [8.7404, 5.1806]])"
            ]
          },
          "metadata": {},
          "execution_count": 10
        }
      ]
    },
    {
      "cell_type": "code",
      "source": [
        "r = (torch.rand(2, 2) - 0.5) * 2 # values between -1 and 1\n",
        "print('A random matrix, r:')\n",
        "print(r)\n",
        "\n",
        "# Common mathematical operations are supported:\n",
        "print('\\nAbsolute value of r:')\n",
        "print(torch.abs(r))\n",
        "\n",
        "# ...as are trigonometric functions:\n",
        "print('\\nInverse sine of r:')\n",
        "print(torch.asin(r))\n",
        "\n",
        "# ...and linear algebra operations like determinant and singular value decomposition\n",
        "print('\\nDeterminant of r:')\n",
        "print(torch.det(r))\n",
        "print('\\nSingular value decomposition of r:')\n",
        "print(torch.svd(r))\n",
        "\n",
        "# ...and statistical and aggregate operations:\n",
        "print('\\nAverage and standard deviation of r:')\n",
        "print(torch.std_mean(r))\n",
        "print('\\nMaximum value of r:')\n",
        "print(torch.max(r))"
      ],
      "metadata": {
        "colab": {
          "base_uri": "https://localhost:8080/"
        },
        "id": "I4QEDUVKHMHX",
        "outputId": "bc5fd1a7-48f5-4246-cfef-ccbc9fa1b9e7"
      },
      "execution_count": 11,
      "outputs": [
        {
          "output_type": "stream",
          "name": "stdout",
          "text": [
            "A random matrix, r:\n",
            "tensor([[ 0.0124,  0.6939],\n",
            "        [-0.4823, -0.4587]])\n",
            "\n",
            "Absolute value of r:\n",
            "tensor([[0.0124, 0.6939],\n",
            "        [0.4823, 0.4587]])\n",
            "\n",
            "Inverse sine of r:\n",
            "tensor([[ 0.0124,  0.7669],\n",
            "        [-0.5033, -0.4765]])\n",
            "\n",
            "Determinant of r:\n",
            "tensor(0.3290)\n",
            "\n",
            "Singular value decomposition of r:\n",
            "torch.return_types.svd(\n",
            "U=tensor([[ 0.7278, -0.6858],\n",
            "        [-0.6858, -0.7278]]),\n",
            "S=tensor([0.8872, 0.3708]),\n",
            "V=tensor([[ 0.3830,  0.9237],\n",
            "        [ 0.9237, -0.3830]]))\n",
            "\n",
            "Average and standard deviation of r:\n",
            "(tensor(0.5510), tensor(-0.0587))\n",
            "\n",
            "Maximum value of r:\n",
            "tensor(0.6939)\n"
          ]
        }
      ]
    },
    {
      "cell_type": "markdown",
      "source": [
        "### Math & Logic with PyTorch Tensors"
      ],
      "metadata": {
        "id": "fyQcJWxQudHy"
      }
    },
    {
      "cell_type": "code",
      "source": [
        "# With Scalars\n",
        "# Arithmetic operations between tensors and scalars, such as addition, subtraction, multiplication, division, and exponentiation are distributed over every element of the tensor.\n",
        "ones = torch.zeros(2, 2) + 1\n",
        "twos = torch.ones(2, 2) * 2\n",
        "threes = (torch.ones(2, 2) * 7 - 1) / 2\n",
        "fours = twos ** 2\n",
        "sqrt2s = twos ** 0.5\n",
        "\n",
        "print(ones)\n",
        "print(twos)\n",
        "print(threes)\n",
        "print(fours)\n",
        "print(sqrt2s)"
      ],
      "metadata": {
        "colab": {
          "base_uri": "https://localhost:8080/"
        },
        "id": "h-mrOuX1ubQV",
        "outputId": "fd9d17b5-e712-4759-9f4b-97c0e980e1df"
      },
      "execution_count": 12,
      "outputs": [
        {
          "output_type": "stream",
          "name": "stdout",
          "text": [
            "tensor([[1., 1.],\n",
            "        [1., 1.]])\n",
            "tensor([[2., 2.],\n",
            "        [2., 2.]])\n",
            "tensor([[3., 3.],\n",
            "        [3., 3.]])\n",
            "tensor([[4., 4.],\n",
            "        [4., 4.]])\n",
            "tensor([[1.4142, 1.4142],\n",
            "        [1.4142, 1.4142]])\n"
          ]
        }
      ]
    },
    {
      "cell_type": "code",
      "source": [
        "# For operations between two tensors, make sure the shapes are identical\n",
        "powers2 = twos ** torch.tensor([[1, 2], [3, 4]])\n",
        "print(powers2)\n",
        "\n",
        "fives = ones + fours\n",
        "print(fives)\n",
        "\n",
        "dozens = threes * fours\n",
        "print(dozens)"
      ],
      "metadata": {
        "colab": {
          "base_uri": "https://localhost:8080/"
        },
        "id": "ob9ODwiEubM7",
        "outputId": "151b4375-547c-4fa3-aa17-8bc040dc1919"
      },
      "execution_count": 13,
      "outputs": [
        {
          "output_type": "stream",
          "name": "stdout",
          "text": [
            "tensor([[ 2.,  4.],\n",
            "        [ 8., 16.]])\n",
            "tensor([[5., 5.],\n",
            "        [5., 5.]])\n",
            "tensor([[12., 12.],\n",
            "        [12., 12.]])\n"
          ]
        }
      ]
    },
    {
      "cell_type": "markdown",
      "source": [
        "### Tensor Broadcasting\n",
        "Broadcasting is a way to perform an operation between tensors that have similarities in their shapes. In the example above, the one-row, four-column tensor is multiplied by both rows of the two-row, four-column tensor.\n",
        "\n",
        "\n",
        "\n",
        "The rules for broadcasting are:\n",
        "\n",
        "- Each tensor must have at least one dimension - no empty tensors.\n",
        "- Comparing the dimension sizes of the two tensors, going from last to first:\n",
        "  - Each dimension must be equal, or\n",
        "  - One of the dimensions must be of size 1, or\n",
        "  - The dimension does not exist in one of the tensors\n",
        "  - Tensors of identical shape, of course, are trivially “broadcastable”"
      ],
      "metadata": {
        "id": "1QNDwa4UwEcn"
      }
    },
    {
      "cell_type": "code",
      "source": [
        "# This is an important operation in Deep Learning. The common example is multiplying a tensor of learning weights by a batch of input tensors, applying the operation to each instance in the batch separately, and returning a tensor of identical shape - just like our (2, 4) * (1, 4) example above returned a tensor of shape (2, 4).\n",
        "\n",
        "rand = torch.rand(2, 4)\n",
        "doubled = rand * (torch.ones(1, 4) * 2)\n",
        "\n",
        "print(rand)\n",
        "print(doubled)"
      ],
      "metadata": {
        "colab": {
          "base_uri": "https://localhost:8080/"
        },
        "id": "52UE27GqubJz",
        "outputId": "fc89accd-fb08-4afe-f4db-afa4aece782d"
      },
      "execution_count": 14,
      "outputs": [
        {
          "output_type": "stream",
          "name": "stdout",
          "text": [
            "tensor([[0.4115, 0.6839, 0.0703, 0.5105],\n",
            "        [0.9451, 0.2359, 0.1979, 0.3327]])\n",
            "tensor([[0.8230, 1.3677, 0.1405, 1.0210],\n",
            "        [1.8901, 0.4717, 0.3959, 0.6655]])\n"
          ]
        }
      ]
    },
    {
      "cell_type": "code",
      "source": [
        "# Lets explore some more examples\n",
        "a =  torch.ones(4, 3, 2)\n",
        "\n",
        "print('Example 1')\n",
        "rand1 = torch.rand(   3, 2)\n",
        "print(rand1)\n",
        "b = a * rand1 # 3rd & 2nd dims identical to a, dim 1 absent\n",
        "print(b)\n",
        "\n",
        "print('Example 2')\n",
        "rand2 = torch.rand(   3, 1)\n",
        "print(rand2)\n",
        "c = a * rand2 # 3rd dim = 1, 2nd dim identical to a\n",
        "print(c)\n",
        "\n",
        "print('Example 3')\n",
        "rand3 = torch.rand(   1, 2)\n",
        "print(rand3)\n",
        "d = a * rand3 # 3rd dim identical to a, 2nd dim = 1\n",
        "print(d)"
      ],
      "metadata": {
        "colab": {
          "base_uri": "https://localhost:8080/"
        },
        "id": "yL8JCATMua2r",
        "outputId": "d7c5750a-cff3-4689-875e-9af05965be44"
      },
      "execution_count": 15,
      "outputs": [
        {
          "output_type": "stream",
          "name": "stdout",
          "text": [
            "Example 1\n",
            "tensor([[0.6146, 0.5999],\n",
            "        [0.5013, 0.9397],\n",
            "        [0.8656, 0.5207]])\n",
            "tensor([[[0.6146, 0.5999],\n",
            "         [0.5013, 0.9397],\n",
            "         [0.8656, 0.5207]],\n",
            "\n",
            "        [[0.6146, 0.5999],\n",
            "         [0.5013, 0.9397],\n",
            "         [0.8656, 0.5207]],\n",
            "\n",
            "        [[0.6146, 0.5999],\n",
            "         [0.5013, 0.9397],\n",
            "         [0.8656, 0.5207]],\n",
            "\n",
            "        [[0.6146, 0.5999],\n",
            "         [0.5013, 0.9397],\n",
            "         [0.8656, 0.5207]]])\n",
            "Example 2\n",
            "tensor([[0.6865],\n",
            "        [0.3614],\n",
            "        [0.6493]])\n",
            "tensor([[[0.6865, 0.6865],\n",
            "         [0.3614, 0.3614],\n",
            "         [0.6493, 0.6493]],\n",
            "\n",
            "        [[0.6865, 0.6865],\n",
            "         [0.3614, 0.3614],\n",
            "         [0.6493, 0.6493]],\n",
            "\n",
            "        [[0.6865, 0.6865],\n",
            "         [0.3614, 0.3614],\n",
            "         [0.6493, 0.6493]],\n",
            "\n",
            "        [[0.6865, 0.6865],\n",
            "         [0.3614, 0.3614],\n",
            "         [0.6493, 0.6493]]])\n",
            "Example 3\n",
            "tensor([[0.2633, 0.4762]])\n",
            "tensor([[[0.2633, 0.4762],\n",
            "         [0.2633, 0.4762],\n",
            "         [0.2633, 0.4762]],\n",
            "\n",
            "        [[0.2633, 0.4762],\n",
            "         [0.2633, 0.4762],\n",
            "         [0.2633, 0.4762]],\n",
            "\n",
            "        [[0.2633, 0.4762],\n",
            "         [0.2633, 0.4762],\n",
            "         [0.2633, 0.4762]],\n",
            "\n",
            "        [[0.2633, 0.4762],\n",
            "         [0.2633, 0.4762],\n",
            "         [0.2633, 0.4762]]])\n"
          ]
        }
      ]
    },
    {
      "cell_type": "code",
      "source": [
        "# Some common functions with tensors\n",
        "\n",
        "import math\n",
        "\n",
        "# common functions\n",
        "a = torch.rand(2, 4) * 2 - 1\n",
        "print('Common functions:')\n",
        "print(torch.abs(a))\n",
        "print(torch.ceil(a))\n",
        "print(torch.floor(a))\n",
        "print(torch.clamp(a, -0.5, 0.5))\n",
        "\n",
        "# trigonometric functions and their inverses\n",
        "angles = torch.tensor([0, math.pi / 4, math.pi / 2, 3 * math.pi / 4])\n",
        "sines = torch.sin(angles)\n",
        "inverses = torch.asin(sines)\n",
        "print('\\nSine and arcsine:')\n",
        "print(angles)\n",
        "print(sines)\n",
        "print(inverses)\n",
        "\n",
        "# bitwise operations\n",
        "print('\\nBitwise XOR:')\n",
        "b = torch.tensor([1, 5, 11])\n",
        "c = torch.tensor([2, 7, 10])\n",
        "print(torch.bitwise_xor(b, c))\n",
        "\n",
        "# comparisons:\n",
        "print('\\nBroadcasted, element-wise equality comparison:')\n",
        "d = torch.tensor([[1., 2.], [3., 4.]])\n",
        "e = torch.ones(1, 2)  # many comparison ops support broadcasting!\n",
        "print(torch.eq(d, e)) # returns a tensor of type bool\n",
        "\n",
        "# reductions:\n",
        "print('\\nReduction ops:')\n",
        "print(torch.max(d))        # returns a single-element tensor\n",
        "print(torch.max(d).item()) # extracts the value from the returned tensor\n",
        "print(torch.mean(d))       # average\n",
        "print(torch.std(d))        # standard deviation\n",
        "print(torch.prod(d))       # product of all numbers\n",
        "print(torch.unique(torch.tensor([1, 2, 1, 2, 1, 2]))) # filter unique elements\n",
        "\n",
        "# vector and linear algebra operations\n",
        "v1 = torch.tensor([1., 0., 0.])         # x unit vector\n",
        "v2 = torch.tensor([0., 1., 0.])         # y unit vector\n",
        "m1 = torch.rand(2, 2)                   # random matrix\n",
        "m2 = torch.tensor([[3., 0.], [0., 3.]]) # three times identity matrix\n",
        "\n",
        "print('\\nVectors & Matrices:')\n",
        "print(torch.cross(v2, v1)) # negative of z unit vector (v1 x v2 == -v2 x v1)\n",
        "print(m1)\n",
        "m3 = torch.matmul(m1, m2)\n",
        "print(m3)                  # 3 times m1\n",
        "print(torch.svd(m3))       # singular value decomposition"
      ],
      "metadata": {
        "colab": {
          "base_uri": "https://localhost:8080/"
        },
        "id": "rhnM_utgnH7z",
        "outputId": "d714c63d-b34a-42aa-91d9-b3650b4253ad"
      },
      "execution_count": 16,
      "outputs": [
        {
          "output_type": "stream",
          "name": "stdout",
          "text": [
            "Common functions:\n",
            "tensor([[0.8904, 0.5951, 0.1461, 0.4382],\n",
            "        [0.1866, 0.4602, 0.2551, 0.4715]])\n",
            "tensor([[-0., -0., 1., 1.],\n",
            "        [-0., 1., 1., 1.]])\n",
            "tensor([[-1., -1.,  0.,  0.],\n",
            "        [-1.,  0.,  0.,  0.]])\n",
            "tensor([[-0.5000, -0.5000,  0.1461,  0.4382],\n",
            "        [-0.1866,  0.4602,  0.2551,  0.4715]])\n",
            "\n",
            "Sine and arcsine:\n",
            "tensor([0.0000, 0.7854, 1.5708, 2.3562])\n",
            "tensor([0.0000, 0.7071, 1.0000, 0.7071])\n",
            "tensor([0.0000, 0.7854, 1.5708, 0.7854])\n",
            "\n",
            "Bitwise XOR:\n",
            "tensor([3, 2, 1])\n",
            "\n",
            "Broadcasted, element-wise equality comparison:\n",
            "tensor([[ True, False],\n",
            "        [False, False]])\n",
            "\n",
            "Reduction ops:\n",
            "tensor(4.)\n",
            "4.0\n",
            "tensor(2.5000)\n",
            "tensor(1.2910)\n",
            "tensor(24.)\n",
            "tensor([1, 2])\n",
            "\n",
            "Vectors & Matrices:\n",
            "tensor([ 0.,  0., -1.])\n",
            "tensor([[0.0381, 0.2138],\n",
            "        [0.5395, 0.3686]])\n",
            "tensor([[0.1143, 0.6414],\n",
            "        [1.6186, 1.1057]])\n",
            "torch.return_types.svd(\n",
            "U=tensor([[-0.2387, -0.9711],\n",
            "        [-0.9711,  0.2387]]),\n",
            "S=tensor([2.0155, 0.4524]),\n",
            "V=tensor([[-0.7934,  0.6087],\n",
            "        [-0.6087, -0.7934]]))\n"
          ]
        }
      ]
    },
    {
      "cell_type": "code",
      "source": [
        "# Copying Tensors\n",
        "a = torch.ones(2, 2)\n",
        "b = a.clone()"
      ],
      "metadata": {
        "id": "25GoOcZeyLYv"
      },
      "execution_count": 17,
      "outputs": []
    },
    {
      "cell_type": "markdown",
      "source": [
        "### Moving to GPU\n",
        "One of the major advantages of PyTorch is its robust acceleration on CUDA-compatible Nvidia GPUs. (“CUDA” stands for Compute Unified Device Architecture, which is Nvidia’s platform for parallel computing.) So far, everything we’ve done has been on CPU. How do we move to the faster hardware?\n",
        "\n",
        "First, we should check whether a GPU is available, with the ```is_available()``` method."
      ],
      "metadata": {
        "id": "oE_vRjg-yyDc"
      }
    },
    {
      "cell_type": "code",
      "source": [
        "if torch.cuda.is_available():\n",
        "    print('We have a GPU!')\n",
        "else:\n",
        "    print('Sorry, CPU only.')"
      ],
      "metadata": {
        "colab": {
          "base_uri": "https://localhost:8080/"
        },
        "id": "SckPYWu2yLVW",
        "outputId": "3284a578-671f-416e-dd47-2c0472466339"
      },
      "execution_count": 18,
      "outputs": [
        {
          "output_type": "stream",
          "name": "stdout",
          "text": [
            "We have a GPU!\n"
          ]
        }
      ]
    },
    {
      "cell_type": "code",
      "source": [
        "if torch.cuda.is_available():\n",
        "    my_device = torch.device('cuda')\n",
        "else:\n",
        "    my_device = torch.device('cpu')\n",
        "print('Device: {}'.format(my_device))\n",
        "\n",
        "x = torch.rand(2, 2, device=my_device)\n",
        "print(x)"
      ],
      "metadata": {
        "colab": {
          "base_uri": "https://localhost:8080/"
        },
        "id": "E67iNTI879rZ",
        "outputId": "638d933a-18e1-454f-c78c-58c41c9d5c17"
      },
      "execution_count": 19,
      "outputs": [
        {
          "output_type": "stream",
          "name": "stdout",
          "text": [
            "Device: cuda\n",
            "tensor([[0.3344, 0.2640],\n",
            "        [0.2119, 0.0582]], device='cuda:0')\n"
          ]
        }
      ]
    },
    {
      "cell_type": "markdown",
      "source": [
        "### Manipulating Tensors"
      ],
      "metadata": {
        "id": "uSj6jah27-be"
      }
    },
    {
      "cell_type": "code",
      "source": [
        "# Changing dimensions of Tensor\n",
        "a = torch.rand(3, 226, 226)\n",
        "b = a.unsqueeze(0)  # a.unsqueeze(0): Adds a new dimension at the specified position (0 in this case).\n",
        "\n",
        "print(a.shape)\n",
        "print(b.shape)"
      ],
      "metadata": {
        "colab": {
          "base_uri": "https://localhost:8080/"
        },
        "id": "2RhIdpWXyLSU",
        "outputId": "d831be5e-163b-4b45-c469-a3ab1e000548"
      },
      "execution_count": 20,
      "outputs": [
        {
          "output_type": "stream",
          "name": "stdout",
          "text": [
            "torch.Size([3, 226, 226])\n",
            "torch.Size([1, 3, 226, 226])\n"
          ]
        }
      ]
    },
    {
      "cell_type": "code",
      "source": [
        "a = torch.rand(1, 20)\n",
        "print(a.shape)\n",
        "print(a)\n",
        "\n",
        "b = a.squeeze(0) #Removes a dimension at the specified position (0 in this case). Since the original tensor a had a size of 1 along this dimension, it is removed.\n",
        "print(b.shape)\n",
        "print(b)\n",
        "\n",
        "c = torch.rand(2, 2)\n",
        "print(c.shape)\n",
        "\n",
        "d = c.squeeze(0) # Attempts to remove a dimension at position 0. However, since the original tensor c does not have a size-1 dimension along this axis, the tensor remains unchanged.\n",
        "print(d.shape)\n",
        "\n",
        "# In summary, the squeeze method is used to remove dimensions with size 1. If the specified dimension has size greater than 1 or does not exist, the tensor remains unchanged."
      ],
      "metadata": {
        "colab": {
          "base_uri": "https://localhost:8080/"
        },
        "id": "G_bQ8VMqyLPu",
        "outputId": "17d15fa2-a0ac-4279-8810-93da946da75b"
      },
      "execution_count": 21,
      "outputs": [
        {
          "output_type": "stream",
          "name": "stdout",
          "text": [
            "torch.Size([1, 20])\n",
            "tensor([[0.8394, 0.8083, 0.5408, 0.2576, 0.5258, 0.5329, 0.5899, 0.4933, 0.3665,\n",
            "         0.1891, 0.9775, 0.7781, 0.0915, 0.4627, 0.7947, 0.7478, 0.8827, 0.6334,\n",
            "         0.3902, 0.3691]])\n",
            "torch.Size([20])\n",
            "tensor([0.8394, 0.8083, 0.5408, 0.2576, 0.5258, 0.5329, 0.5899, 0.4933, 0.3665,\n",
            "        0.1891, 0.9775, 0.7781, 0.0915, 0.4627, 0.7947, 0.7478, 0.8827, 0.6334,\n",
            "        0.3902, 0.3691])\n",
            "torch.Size([2, 2])\n",
            "torch.Size([2, 2])\n"
          ]
        }
      ]
    },
    {
      "cell_type": "code",
      "source": [
        "# Reshaping a tensor\n",
        "output3d = torch.rand(6, 20, 20)\n",
        "print(output3d.shape)\n",
        "\n",
        "# Note: The dimensions you request yield the same number of elements as the input tensor\n",
        "input1d = output3d.reshape(6 * 20 * 20)\n",
        "print(input1d.shape)"
      ],
      "metadata": {
        "colab": {
          "base_uri": "https://localhost:8080/"
        },
        "id": "IIogSZdnyLNc",
        "outputId": "3fafb13b-77c7-4364-d365-866416b5f543"
      },
      "execution_count": 22,
      "outputs": [
        {
          "output_type": "stream",
          "name": "stdout",
          "text": [
            "torch.Size([6, 20, 20])\n",
            "torch.Size([2400])\n"
          ]
        }
      ]
    },
    {
      "cell_type": "code",
      "source": [
        "# Converting numpy to tensor\n",
        "import numpy as np\n",
        "\n",
        "numpy_array = np.ones((2, 3))\n",
        "print(numpy_array)\n",
        "\n",
        "pytorch_tensor = torch.from_numpy(numpy_array)\n",
        "print(pytorch_tensor)\n",
        "\n",
        "# Converting tensors to numpy\n",
        "pytorch_rand = torch.rand(2, 3)\n",
        "print(pytorch_rand)\n",
        "\n",
        "numpy_rand = pytorch_rand.numpy()\n",
        "print(numpy_rand)\n",
        "\n",
        "# Note: Since both numpy array and tensor will share the same memory, manipulation/change in any one will lead to manipulation/change in other"
      ],
      "metadata": {
        "colab": {
          "base_uri": "https://localhost:8080/"
        },
        "id": "9V8SweQpyJ-Y",
        "outputId": "e3c4879a-fdf4-4741-86d4-04c74a22a95e"
      },
      "execution_count": 23,
      "outputs": [
        {
          "output_type": "stream",
          "name": "stdout",
          "text": [
            "[[1. 1. 1.]\n",
            " [1. 1. 1.]]\n",
            "tensor([[1., 1., 1.],\n",
            "        [1., 1., 1.]], dtype=torch.float64)\n",
            "tensor([[0.1923, 0.2480, 0.1941],\n",
            "        [0.2385, 0.0628, 0.6008]])\n",
            "[[0.19231671 0.2479614  0.1940757 ]\n",
            " [0.23848575 0.06282878 0.6008167 ]]\n"
          ]
        }
      ]
    },
    {
      "cell_type": "markdown",
      "source": [
        "## Model buidling using Torch"
      ],
      "metadata": {
        "id": "CAfaYBiWItUk"
      }
    },
    {
      "cell_type": "markdown",
      "source": [
        "# Data set and DataLoader"
      ],
      "metadata": {
        "id": "SI6vauySBoaS"
      }
    },
    {
      "cell_type": "code",
      "source": [
        "#%matplotlib inline\n",
        "\n",
        "import torch\n",
        "import torchvision\n",
        "import torchvision.transforms as transforms\n",
        "\n",
        "# For converting the inputs into required format for torch. First convert the inputs to tensors then normalize it\n",
        "\n",
        "# But before loading the dataset and setting up means and std for transforms use the below code for calculating them\n",
        "# Assuming you have a CIFAR-10 dataset\n",
        "trainset = torchvision.datasets.CIFAR10(root='./data', train=True, download=True, transform=None)\n",
        "\n",
        "# Calculate mean and std for each channel\n",
        "mean = tuple(trainset.data.mean(axis=(0, 1, 2)) / 255.0)\n",
        "std = tuple(trainset.data.std(axis=(0, 1, 2)) / 255.0)\n",
        "\n",
        "print(mean)\n",
        "print(std)\n",
        "\n",
        "transform = transforms.Compose(\n",
        "    [transforms.ToTensor(),\n",
        "     transforms.Normalize((0.4914, 0.4822, 0.4465), (0.2470, 0.2435, 0.2616))])  #  (means), (std)\n",
        "\n",
        "# loading a inbuilt dataset CIFAR10 using the transformation\n",
        "trainset = torchvision.datasets.CIFAR10(root='./data', train=True,\n",
        "                                        download=True, transform=transform)\n",
        "\n",
        "trainloader = torch.utils.data.DataLoader(trainset, batch_size=4,\n",
        "                                          shuffle=True, num_workers=2)\n",
        "\n",
        "# trainset: This is assumed to be a PyTorch dataset\n",
        "# batch_size=4: This parameter determines the number of samples in each batch.\n",
        "#               During training, the model's parameters are updated based on the average loss computed over this batch.\n",
        "\n",
        "# shuffle=True: This parameter indicates whether the data should be shuffled at the beginning of each epoch.\n",
        "# Shuffling helps in randomizing the order of samples within each batch, preventing the model from learning patterns based on the order of the data.\n",
        "\n",
        "# num_workers=2: This parameter specifies the number of worker processes to use for data loading.\n",
        "# Multiple workers can load batches in parallel, improving data loading efficiency. The value of num_workers is often set based on the available CPU cores.\n",
        "\n",
        "\n",
        "# Repeat the same for test dataset\n",
        "testset = torchvision.datasets.CIFAR10(root='./data', train=False,\n",
        "                                       download=True, transform=transform)\n",
        "testloader = torch.utils.data.DataLoader(testset, batch_size=4,\n",
        "                                         shuffle=False, num_workers=2)\n",
        "\n",
        "classes = ('plane', 'car', 'bird', 'cat',\n",
        "           'deer', 'dog', 'frog', 'horse', 'ship', 'truck')"
      ],
      "metadata": {
        "colab": {
          "base_uri": "https://localhost:8080/"
        },
        "id": "QWr03QTSNKeV",
        "outputId": "9fd3adea-2e73-4334-9a69-7cac18dfeaab"
      },
      "execution_count": 24,
      "outputs": [
        {
          "output_type": "stream",
          "name": "stdout",
          "text": [
            "Downloading https://www.cs.toronto.edu/~kriz/cifar-10-python.tar.gz to ./data/cifar-10-python.tar.gz\n"
          ]
        },
        {
          "output_type": "stream",
          "name": "stderr",
          "text": [
            "100%|██████████| 170498071/170498071 [00:13<00:00, 12891696.11it/s]\n"
          ]
        },
        {
          "output_type": "stream",
          "name": "stdout",
          "text": [
            "Extracting ./data/cifar-10-python.tar.gz to ./data\n",
            "(0.49139967861519607, 0.48215840839460783, 0.44653091444546567)\n",
            "(0.24703223246328176, 0.24348512800005648, 0.26158784172796473)\n",
            "Files already downloaded and verified\n",
            "Files already downloaded and verified\n"
          ]
        }
      ]
    },
    {
      "cell_type": "code",
      "source": [
        "import matplotlib.pyplot as plt\n",
        "import numpy as np\n",
        "\n",
        "# functions to show an image\n",
        "\n",
        "\n",
        "def imshow(img):\n",
        "    img = img / 2 + 0.5     # unnormalize\n",
        "    npimg = img.numpy()\n",
        "    plt.imshow(np.transpose(npimg, (1, 2, 0)))\n",
        "\n",
        "\n",
        "# get some random training images\n",
        "dataiter = iter(trainloader)\n",
        "images, labels = next(dataiter)\n",
        "\n",
        "# show images\n",
        "imshow(torchvision.utils.make_grid(images))\n",
        "# print labels\n",
        "print(' '.join('%5s' % classes[labels[j]] for j in range(4)))"
      ],
      "metadata": {
        "colab": {
          "base_uri": "https://localhost:8080/",
          "height": 228
        },
        "id": "sIwXm94ANKUX",
        "outputId": "815a607b-bb1c-4365-b8cf-dc3e0c71bc8c"
      },
      "execution_count": 25,
      "outputs": [
        {
          "output_type": "stream",
          "name": "stderr",
          "text": [
            "WARNING:matplotlib.image:Clipping input data to the valid range for imshow with RGB data ([0..1] for floats or [0..255] for integers).\n"
          ]
        },
        {
          "output_type": "stream",
          "name": "stdout",
          "text": [
            " bird  ship plane  bird\n"
          ]
        },
        {
          "output_type": "display_data",
          "data": {
            "text/plain": [
              "<Figure size 640x480 with 1 Axes>"
            ],
            "image/png": "[encoded data removed]"
          },
          "metadata": {}
        }
      ]
    },
    {
      "cell_type": "code",
      "source": [
        "# The input image is of 32x32 size with 3 channels\n",
        "\n",
        "# So base on the architecture the first convolution layer should have 3 filters\n",
        "# The output from first layer will have size of 28x28 then with max pooling with filter of 2 and stride 2 gives output of size 14x14\n",
        "# The output from second layer will have size of 10x10 then with max pooling with filter of 2 and stride 2 gives output of size 5x5\n",
        "# For the feedforward network ahead we will have to flatten it using these dimensions 16 * 5 * 5\n",
        "# then it followed by a fully connnected network\n",
        "\n",
        "\n",
        "# Loading relevant libraries\n",
        "%matplotlib inline\n",
        "import torch\n",
        "import torch.nn as nn\n",
        "import torch.nn.functional as F\n",
        "import torch.optim as optim\n",
        "\n",
        "import torchvision\n",
        "import torchvision.transforms as transforms\n",
        "\n",
        "import matplotlib\n",
        "import matplotlib.pyplot as plt\n",
        "import numpy as np\n",
        "\n",
        "\n",
        "\n",
        "# Setting up a class for neural network architecture\n",
        "\n",
        "class Net(nn.Module):\n",
        "    def __init__(self): #Set up the operations you want to perform in the Neural Network\n",
        "        super(Net, self).__init__()\n",
        "        self.conv1 = nn.Conv2d(3,6,5) #(InputChannel, OutputChannels, SizeofFilter)\n",
        "        self.pool = nn.MaxPool2d(2,2) # formats (2,2) (filter size, stride)   #Other format ((2,2), stride = 2)\n",
        "        self.conv2 = nn.Conv2d(6,16,5) #(InputChannel, OutputChannels, SizeofFilter)\n",
        "        self.fc1 = nn.Linear(16*5*5,120) #(Inputs, outputs)\n",
        "        self.fc2 = nn.Linear(120,84) #(Inputs, outputs)\n",
        "        self.fc3 = nn.Linear(84,10) #(Inputs, outputs)\n",
        "\n",
        "    def forward(self,x):\n",
        "        x = self.pool(F.relu(self.conv1(x)))\n",
        "        x = self.pool(F.relu(self.conv2(x)))\n",
        "        x = x.view(-1, 16 * 5 * 5) # Reshapes the output tensor into a 1D tensor for input to the fully connected layers.\n",
        "        x = self.fc1(x)\n",
        "        x= F.relu(x)\n",
        "        x = self.fc2(x)\n",
        "        x= F.relu(x)\n",
        "        x = self.fc3(x)\n",
        "        #x= F.softmax(x)\n",
        "        return x\n",
        "\n",
        "net = Net()"
      ],
      "metadata": {
        "id": "EyLDEPKvNKRN"
      },
      "execution_count": 27,
      "outputs": []
    },
    {
      "cell_type": "code",
      "source": [
        "# Setting up loss function\n",
        "criterion = nn.CrossEntropyLoss()\n",
        "# Setting up Gradient descent optimizer and learning rate\n",
        "optimizer = optim.SGD(net.parameters(), lr=0.001, momentum=0.9)"
      ],
      "metadata": {
        "id": "d8VHBEI9Oa-F"
      },
      "execution_count": 28,
      "outputs": []
    },
    {
      "cell_type": "code",
      "source": [
        "# Training the model\n",
        "\n",
        "for epoch in range(2):  # loop over the dataset multiple times (In other words, setting up the epochs)\n",
        "\n",
        "    running_loss = 0.0 # To calculate the loss for a batch later\n",
        "    for i, data in enumerate(trainloader, 0):\n",
        "        # get the inputs\n",
        "        inputs, labels = data #Splitting features and labels\n",
        "\n",
        "        # Resetting the gradients\n",
        "        optimizer.zero_grad()\n",
        "\n",
        "        # forward + backward + optimize\n",
        "        outputs = net(inputs)   # Forward pass\n",
        "        loss = criterion(outputs, labels) #Loss calculation\n",
        "        loss.backward() # Backpropogation\n",
        "        optimizer.step() # to perform a parameter update based on the computed gradients.\n",
        "\n",
        "        # print statistics\n",
        "        running_loss += loss.item()\n",
        "        if i % 2000 == 1999:    # print every 2000 mini-batches #Setting up the batch sizes\n",
        "            print('[%d, %5d] loss: %.3f' %\n",
        "                  (epoch + 1, i + 1, running_loss / 2000))\n",
        "            running_loss = 0.0\n",
        "\n",
        "print('Finished Training')"
      ],
      "metadata": {
        "colab": {
          "base_uri": "https://localhost:8080/"
        },
        "id": "jmL8swGqOa63",
        "outputId": "08e4564e-9b9e-4463-af58-ee70f8a5063b"
      },
      "execution_count": 29,
      "outputs": [
        {
          "output_type": "stream",
          "name": "stdout",
          "text": [
            "[1,  2000] loss: 2.085\n",
            "[1,  4000] loss: 1.731\n",
            "[1,  6000] loss: 1.586\n",
            "[1,  8000] loss: 1.506\n",
            "[1, 10000] loss: 1.477\n",
            "[1, 12000] loss: 1.431\n",
            "[2,  2000] loss: 1.351\n",
            "[2,  4000] loss: 1.331\n",
            "[2,  6000] loss: 1.321\n",
            "[2,  8000] loss: 1.305\n",
            "[2, 10000] loss: 1.294\n",
            "[2, 12000] loss: 1.240\n",
            "Finished Training\n"
          ]
        }
      ]
    },
    {
      "cell_type": "code",
      "source": [
        "correct = 0\n",
        "total = 0\n",
        "\n",
        "# Predicting on the test set and calculating the accuracy\n",
        "with torch.no_grad():\n",
        "    for data in testloader:\n",
        "        images, labels = data\n",
        "        outputs = net(images)\n",
        "        _, predicted = torch.max(outputs.data, 1)\n",
        "        total += labels.size(0)\n",
        "        correct += (predicted == labels).sum().item()\n",
        "\n",
        "print('Accuracy of the network on the 10000 test images: %d %%' % (\n",
        "    100 * correct / total))"
      ],
      "metadata": {
        "colab": {
          "base_uri": "https://localhost:8080/"
        },
        "id": "pE__awPUOa28",
        "outputId": "b54c454b-f3e1-48f7-8bc1-2b11f8afeee1"
      },
      "execution_count": 30,
      "outputs": [
        {
          "output_type": "stream",
          "name": "stdout",
          "text": [
            "Accuracy of the network on the 10000 test images: 56 %\n"
          ]
        }
      ]
    },
    {
      "cell_type": "code",
      "source": [],
      "metadata": {
        "id": "23B3X3nMOayz"
      },
      "execution_count": null,
      "outputs": []
    }
  ]
}