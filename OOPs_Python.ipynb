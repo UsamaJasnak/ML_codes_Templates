{
 "cells": [
  {
   "cell_type": "markdown",
   "id": "9df51578",
   "metadata": {},
   "source": [
    "# Object Oriented Programming in Python \n",
    "Most of the contents in the taken from GeekforGeeks and W3School\n",
    "(https://www.geeksforgeeks.org/python-oops-concepts/?ref=lbp)  \n",
    "(https://www.w3schools.com/python/python_inheritance.asp)  \n",
    "They are just taken from the mentioned source for learning purpose  \n",
    "Author: Mohammed Usama Jasnak"
   ]
  },
  {
   "cell_type": "markdown",
   "id": "cc5c5022",
   "metadata": {},
   "source": [
    "# Classes\n",
    "\n",
    "```\n",
    "class ClassName:\n",
    "    # Statement\n",
    "```"
   ]
  },
  {
   "cell_type": "markdown",
   "id": "97947d4c",
   "metadata": {},
   "source": [
    "# Object\n",
    "\n",
    "```\n",
    "obj = ClassName()\n",
    "print(obj.atrr)\n",
    "```"
   ]
  },
  {
   "cell_type": "markdown",
   "id": "931a9159",
   "metadata": {},
   "source": [
    "## Constructors\n",
    "Constructors are generally used for instantiating an object. The task of constructors is to initialize(assign values) to the data members of the class when an object of the class is created. In Python the ```__init__()``` method is called the constructor and is always called when an object is created.\n",
    "\n",
    "```\n",
    "def __init__(self):\n",
    "    # body of the constructor\n",
    "```"
   ]
  },
  {
   "cell_type": "markdown",
   "id": "d355dc95",
   "metadata": {},
   "source": [
    "```__init__() method```  \n",
    "\n",
    "The ```__init__``` method is similar to constructors in C++ and Java. Constructors are used to initializing the object’s state. \n",
    "Like methods, a constructor also contains a collection of statements(i.e. instructions) that are executed at the time of Object creation. \n",
    "It runs as soon as an object of a class is instantiated. The method is useful to do any initialization you want to do with your object."
   ]
  },
  {
   "cell_type": "code",
   "execution_count": 1,
   "id": "5fb33211",
   "metadata": {},
   "outputs": [
    {
     "name": "stdout",
     "output_type": "stream",
     "text": [
      "Hello my name is John and I work in GeeksForGeeks.\n"
     ]
    }
   ],
   "source": [
    "# Example of Class and object (Source: GeekforGeeks)\n",
    "\n",
    "class GFG:\n",
    "    def __init__(self, name, company):\n",
    "        self.name = name\n",
    "        self.company = company\n",
    "\n",
    "    def show(self):\n",
    "        print(\"Hello my name is \" + self.name+\" and I\" +\" work in \"+self.company+\".\")\n",
    "\n",
    "\n",
    "obj = GFG(\"John\", \"GeeksForGeeks\")\n",
    "obj.show()"
   ]
  },
  {
   "cell_type": "code",
   "execution_count": 2,
   "id": "14c7f26e",
   "metadata": {},
   "outputs": [
    {
     "name": "stdout",
     "output_type": "stream",
     "text": [
      "Rodger details:\n",
      "Rodger is a dog\n",
      "Breed:  Pug\n",
      "Color:  brown\n",
      "\n",
      "Buzo details:\n",
      "Buzo is a dog\n",
      "Breed:  Bulldog\n",
      "Color:  black\n",
      "\n",
      "Accessing class variable using class name\n",
      "dog\n"
     ]
    }
   ],
   "source": [
    "# Another example of Classes and Objects (Source: GeekforGeeks)\n",
    "\n",
    "class Dog:\n",
    "\n",
    "    # Class Variable\n",
    "    animal = 'dog'\n",
    "\n",
    "    # The init method or constructor\n",
    "    def __init__(self, breed, color):\n",
    "\n",
    "        # Instance Variable\n",
    "        self.breed = breed\n",
    "        self.color = color\n",
    "\n",
    "\n",
    "# Objects of Dog class\n",
    "Rodger = Dog(\"Pug\", \"brown\")\n",
    "Buzo = Dog(\"Bulldog\", \"black\")\n",
    "\n",
    "print('Rodger details:')\n",
    "print('Rodger is a', Rodger.animal)\n",
    "print('Breed: ', Rodger.breed)\n",
    "print('Color: ', Rodger.color)\n",
    "\n",
    "print('\\nBuzo details:')\n",
    "print('Buzo is a', Buzo.animal)\n",
    "print('Breed: ', Buzo.breed)\n",
    "print('Color: ', Buzo.color)\n",
    "\n",
    "# Class variables can be accessed using class\n",
    "# name also\n",
    "print(\"\\nAccessing class variable using class name\")\n",
    "print(Dog.animal)\n"
   ]
  },
  {
   "cell_type": "markdown",
   "id": "adf3c5cc",
   "metadata": {},
   "source": [
    "## Inheritence\n",
    "Inheritence is a mechanism that allows you to create a hierarchy of classes that share a set of properties and methods by deriving a class from another class.\n",
    "\n",
    "### Basic Syntax of Inheritence\n",
    "```\n",
    "Class BaseClass:\n",
    "    {Body}\n",
    "Class DerivedClass(BaseClass):\n",
    "    {Body}\n",
    "```\n"
   ]
  },
  {
   "cell_type": "code",
   "execution_count": 8,
   "id": "32ed7369",
   "metadata": {},
   "outputs": [
    {
     "name": "stdout",
     "output_type": "stream",
     "text": [
      "Rahul False\n",
      "Saurabh True\n"
     ]
    }
   ],
   "source": [
    "# Parent Class\n",
    "class Person:\n",
    "\n",
    "    # Constructor\n",
    "    def __init__(self, name):\n",
    "        self.name = name\n",
    "\n",
    "    # To get name\n",
    "    def getName(self):\n",
    "        return self.name\n",
    "\n",
    "    # To check if this person is an employee\n",
    "    def isEmployee(self):\n",
    "        return False\n",
    "\n",
    "\n",
    "# Inherited or Child Class (Note Person in bracket)\n",
    "class Employee(Person):\n",
    "\n",
    "    # Here we return true\n",
    "    def isEmployee(self):\n",
    "        return True\n",
    "\n",
    "\n",
    "# Driver code\n",
    "emp = Person(\"Rahul\") # An Object of Person\n",
    "print(emp.getName(), emp.isEmployee())\n",
    "\n",
    "emp = Employee(\"Saurabh\") # An Object of Employee\n",
    "print(emp.getName(), emp.isEmployee()) # getname function is not available in Employee class but could be called due inheritence\n",
    "\n"
   ]
  },
  {
   "cell_type": "markdown",
   "id": "d2101ea0",
   "metadata": {},
   "source": [
    "# Subclassing (Calling constructor of parent class)\n",
    "\n",
    "A child class needs to identify which class is its parent class. This can be done by mentioning the parent class name in the definition of the child class. \n",
    "\n",
    "Example: ```class subclass_name (superclass_name)```"
   ]
  },
  {
   "cell_type": "code",
   "execution_count": 4,
   "id": "79de1fdd",
   "metadata": {},
   "outputs": [
    {
     "name": "stdout",
     "output_type": "stream",
     "text": [
      "Rahul\n",
      "886012\n"
     ]
    }
   ],
   "source": [
    "# Python code to demonstrate how parent constructors are called.\n",
    "\n",
    "# parent class\n",
    "class Person(object):\n",
    "\n",
    "    # __init__ is known as the constructor\n",
    "    def __init__(self, name, idnumber):\n",
    "        self.name = name\n",
    "        self.idnumber = idnumber\n",
    "\n",
    "    def display(self):\n",
    "        print(self.name)\n",
    "        print(self.idnumber)\n",
    "\n",
    "    # child class\n",
    "class Employee(Person):\n",
    "    def __init__(self, name, idnumber, salary, post):\n",
    "        self.salary = salary\n",
    "        self.post = post\n",
    "\n",
    "        # invoking the __init__ of the parent class\n",
    "        Person.__init__(self, name, idnumber) # Keep this line of code in mind\n",
    "\n",
    "# creation of an object variable or an instance\n",
    "a = Employee('Rahul', 886012, 200000, \"Intern\")  # We are initiating the child class and declaring variables for parent class\n",
    "\n",
    "# As you can see, we are initiating \n",
    "\n",
    "# calling a function of the class Person using its instance\n",
    "a.display()\n"
   ]
  },
  {
   "cell_type": "markdown",
   "id": "8e3a51fb",
   "metadata": {},
   "source": [
    "## ```super()``` Function\n",
    "Python also has a ```super()``` function that will make the child class inherit all the methods and properties from its parent:"
   ]
  },
  {
   "cell_type": "code",
   "execution_count": 6,
   "id": "2171f831",
   "metadata": {},
   "outputs": [],
   "source": [
    "class Student(Person):\n",
    "    def __init__(self, fname, lname):\n",
    "        super().__init__(fname, lname)"
   ]
  },
  {
   "cell_type": "code",
   "execution_count": 7,
   "id": "96cd2e1c",
   "metadata": {},
   "outputs": [],
   "source": [
    "## Adding Properties\n",
    "\n",
    "class Student(Person):\n",
    "    def __init__(self, fname, lname):\n",
    "        super().__init__(fname, lname)\n",
    "        self.graduationyear = 2019"
   ]
  },
  {
   "cell_type": "markdown",
   "id": "8a704a1e",
   "metadata": {},
   "source": [
    "## Types of Inheritence\n",
    "1. Single\n",
    "2. Mutiple\n",
    "3. Multi level\n",
    "4. Hierarchical\n",
    "5. Hybrid\n",
    "\n",
    "Refer the following link for more details  \n",
    "(https://www.geeksforgeeks.org/types-of-inheritance-python/?ref=lbp)"
   ]
  },
  {
   "cell_type": "code",
   "execution_count": null,
   "id": "c0f7220f",
   "metadata": {},
   "outputs": [],
   "source": []
  }
 ],
 "metadata": {
  "kernelspec": {
   "display_name": "Python 3 (ipykernel)",
   "language": "python",
   "name": "python3"
  },
  "language_info": {
   "codemirror_mode": {
    "name": "ipython",
    "version": 3
   },
   "file_extension": ".py",
   "mimetype": "text/x-python",
   "name": "python",
   "nbconvert_exporter": "python",
   "pygments_lexer": "ipython3",
   "version": "3.11.5"
  }
 },
 "nbformat": 4,
 "nbformat_minor": 5
}
