{
 "cells": [
  {
   "cell_type": "code",
   "execution_count": 1,
   "id": "363b5d6d",
   "metadata": {},
   "outputs": [],
   "source": [
    "#Importing Pandas and Numpy\n",
    "import pandas as pd\n",
    "import numpy as np"
   ]
  },
  {
   "cell_type": "code",
   "execution_count": 29,
   "id": "acf9daff",
   "metadata": {},
   "outputs": [],
   "source": [
    "df = pd.DataFrame({'points': [25, 12, 15, 14, 19, 23, 25, 29],\n",
    "                   'assists': [5, 7, 7, 9, 12, 9, 9, 4],\n",
    "                   'rebounds': [11, 8, 10, 6, 6, 5, 9, 12]})"
   ]
  },
  {
   "cell_type": "code",
   "execution_count": 3,
   "id": "5ec43507",
   "metadata": {
    "scrolled": true
   },
   "outputs": [
    {
     "data": {
      "text/html": [
       "<div>\n",
       "<style scoped>\n",
       "    .dataframe tbody tr th:only-of-type {\n",
       "        vertical-align: middle;\n",
       "    }\n",
       "\n",
       "    .dataframe tbody tr th {\n",
       "        vertical-align: top;\n",
       "    }\n",
       "\n",
       "    .dataframe thead th {\n",
       "        text-align: right;\n",
       "    }\n",
       "</style>\n",
       "<table border=\"1\" class=\"dataframe\">\n",
       "  <thead>\n",
       "    <tr style=\"text-align: right;\">\n",
       "      <th></th>\n",
       "      <th>points</th>\n",
       "      <th>assists</th>\n",
       "      <th>rebounds</th>\n",
       "    </tr>\n",
       "  </thead>\n",
       "  <tbody>\n",
       "    <tr>\n",
       "      <th>0</th>\n",
       "      <td>25</td>\n",
       "      <td>5</td>\n",
       "      <td>11</td>\n",
       "    </tr>\n",
       "    <tr>\n",
       "      <th>1</th>\n",
       "      <td>12</td>\n",
       "      <td>7</td>\n",
       "      <td>8</td>\n",
       "    </tr>\n",
       "    <tr>\n",
       "      <th>2</th>\n",
       "      <td>15</td>\n",
       "      <td>7</td>\n",
       "      <td>10</td>\n",
       "    </tr>\n",
       "    <tr>\n",
       "      <th>3</th>\n",
       "      <td>14</td>\n",
       "      <td>9</td>\n",
       "      <td>6</td>\n",
       "    </tr>\n",
       "    <tr>\n",
       "      <th>4</th>\n",
       "      <td>19</td>\n",
       "      <td>12</td>\n",
       "      <td>6</td>\n",
       "    </tr>\n",
       "    <tr>\n",
       "      <th>5</th>\n",
       "      <td>23</td>\n",
       "      <td>9</td>\n",
       "      <td>5</td>\n",
       "    </tr>\n",
       "    <tr>\n",
       "      <th>6</th>\n",
       "      <td>25</td>\n",
       "      <td>9</td>\n",
       "      <td>9</td>\n",
       "    </tr>\n",
       "    <tr>\n",
       "      <th>7</th>\n",
       "      <td>29</td>\n",
       "      <td>4</td>\n",
       "      <td>12</td>\n",
       "    </tr>\n",
       "  </tbody>\n",
       "</table>\n",
       "</div>"
      ],
      "text/plain": [
       "   points  assists  rebounds\n",
       "0      25        5        11\n",
       "1      12        7         8\n",
       "2      15        7        10\n",
       "3      14        9         6\n",
       "4      19       12         6\n",
       "5      23        9         5\n",
       "6      25        9         9\n",
       "7      29        4        12"
      ]
     },
     "execution_count": 3,
     "metadata": {},
     "output_type": "execute_result"
    }
   ],
   "source": [
    "df"
   ]
  },
  {
   "cell_type": "code",
   "execution_count": 4,
   "id": "c7948d38",
   "metadata": {},
   "outputs": [],
   "source": [
    "from sklearn.preprocessing import StandardScaler, MinMaxScaler, RobustScaler"
   ]
  },
  {
   "cell_type": "code",
   "execution_count": 7,
   "id": "57dd2ae6",
   "metadata": {},
   "outputs": [
    {
     "data": {
      "text/plain": [
       "array([25, 12, 15, 14, 19, 23, 25, 29], dtype=int64)"
      ]
     },
     "execution_count": 7,
     "metadata": {},
     "output_type": "execute_result"
    }
   ],
   "source": [
    "df['points'].values"
   ]
  },
  {
   "cell_type": "markdown",
   "id": "8fce9690",
   "metadata": {},
   "source": [
    "# Min- Max Scaler"
   ]
  },
  {
   "cell_type": "markdown",
   "id": "45237b71",
   "metadata": {},
   "source": [
    "## What is Normalization?\n",
    "Normalization is a scaling technique in which values are shifted and rescaled so that they end up ranging between 0 and 1. It is also known as Min-Max scaling.\n",
    "\n",
    "Normalization = (X - Xmin)/(Xmax - Xmin)\n",
    "\n",
    "Here, Xmax and Xmin are the maximum and the minimum values of the feature respectively.\n",
    "\n",
    "When the value of X is the minimum value in the column, the numerator will be 0, and hence X’ is 0\n",
    "On the other hand, when the value of X is the maximum value in the column, the numerator is equal to the denominator and thus the value of X’ is 1\n",
    "If the value of X is between the minimum and the maximum value, then the value of X’ is between 0 and 1"
   ]
  },
  {
   "cell_type": "code",
   "execution_count": 14,
   "id": "00b49d17",
   "metadata": {},
   "outputs": [
    {
     "data": {
      "text/plain": [
       "array([[0.76470588, 0.125     , 0.85714286],\n",
       "       [0.        , 0.375     , 0.42857143],\n",
       "       [0.17647059, 0.375     , 0.71428571],\n",
       "       [0.11764706, 0.625     , 0.14285714],\n",
       "       [0.41176471, 1.        , 0.14285714],\n",
       "       [0.64705882, 0.625     , 0.        ],\n",
       "       [0.76470588, 0.625     , 0.57142857],\n",
       "       [1.        , 0.        , 1.        ]])"
      ]
     },
     "execution_count": 14,
     "metadata": {},
     "output_type": "execute_result"
    }
   ],
   "source": [
    "min_max_scaler = MinMaxScaler()\n",
    "  \n",
    "# Scaled feature\n",
    "x_after_min_max_scaler = min_max_scaler.fit_transform(df.values)\n",
    "x_after_min_max_scaler"
   ]
  },
  {
   "cell_type": "code",
   "execution_count": 20,
   "id": "9267a564",
   "metadata": {},
   "outputs": [],
   "source": [
    "# Alternatively\n",
    "for i in df.columns:\n",
    "    col = i+'_minmax'\n",
    "    df[col] = (df[i]-df[i].min())/(df[i].max()-df[i].min())"
   ]
  },
  {
   "cell_type": "code",
   "execution_count": 21,
   "id": "12958732",
   "metadata": {},
   "outputs": [
    {
     "data": {
      "text/html": [
       "<div>\n",
       "<style scoped>\n",
       "    .dataframe tbody tr th:only-of-type {\n",
       "        vertical-align: middle;\n",
       "    }\n",
       "\n",
       "    .dataframe tbody tr th {\n",
       "        vertical-align: top;\n",
       "    }\n",
       "\n",
       "    .dataframe thead th {\n",
       "        text-align: right;\n",
       "    }\n",
       "</style>\n",
       "<table border=\"1\" class=\"dataframe\">\n",
       "  <thead>\n",
       "    <tr style=\"text-align: right;\">\n",
       "      <th></th>\n",
       "      <th>points</th>\n",
       "      <th>assists</th>\n",
       "      <th>rebounds</th>\n",
       "      <th>points_minmax</th>\n",
       "      <th>assists_minmax</th>\n",
       "      <th>rebounds_minmax</th>\n",
       "    </tr>\n",
       "  </thead>\n",
       "  <tbody>\n",
       "    <tr>\n",
       "      <th>0</th>\n",
       "      <td>25</td>\n",
       "      <td>5</td>\n",
       "      <td>11</td>\n",
       "      <td>0.764706</td>\n",
       "      <td>0.125</td>\n",
       "      <td>0.857143</td>\n",
       "    </tr>\n",
       "    <tr>\n",
       "      <th>1</th>\n",
       "      <td>12</td>\n",
       "      <td>7</td>\n",
       "      <td>8</td>\n",
       "      <td>0.000000</td>\n",
       "      <td>0.375</td>\n",
       "      <td>0.428571</td>\n",
       "    </tr>\n",
       "    <tr>\n",
       "      <th>2</th>\n",
       "      <td>15</td>\n",
       "      <td>7</td>\n",
       "      <td>10</td>\n",
       "      <td>0.176471</td>\n",
       "      <td>0.375</td>\n",
       "      <td>0.714286</td>\n",
       "    </tr>\n",
       "    <tr>\n",
       "      <th>3</th>\n",
       "      <td>14</td>\n",
       "      <td>9</td>\n",
       "      <td>6</td>\n",
       "      <td>0.117647</td>\n",
       "      <td>0.625</td>\n",
       "      <td>0.142857</td>\n",
       "    </tr>\n",
       "    <tr>\n",
       "      <th>4</th>\n",
       "      <td>19</td>\n",
       "      <td>12</td>\n",
       "      <td>6</td>\n",
       "      <td>0.411765</td>\n",
       "      <td>1.000</td>\n",
       "      <td>0.142857</td>\n",
       "    </tr>\n",
       "    <tr>\n",
       "      <th>5</th>\n",
       "      <td>23</td>\n",
       "      <td>9</td>\n",
       "      <td>5</td>\n",
       "      <td>0.647059</td>\n",
       "      <td>0.625</td>\n",
       "      <td>0.000000</td>\n",
       "    </tr>\n",
       "    <tr>\n",
       "      <th>6</th>\n",
       "      <td>25</td>\n",
       "      <td>9</td>\n",
       "      <td>9</td>\n",
       "      <td>0.764706</td>\n",
       "      <td>0.625</td>\n",
       "      <td>0.571429</td>\n",
       "    </tr>\n",
       "    <tr>\n",
       "      <th>7</th>\n",
       "      <td>29</td>\n",
       "      <td>4</td>\n",
       "      <td>12</td>\n",
       "      <td>1.000000</td>\n",
       "      <td>0.000</td>\n",
       "      <td>1.000000</td>\n",
       "    </tr>\n",
       "  </tbody>\n",
       "</table>\n",
       "</div>"
      ],
      "text/plain": [
       "   points  assists  rebounds  points_minmax  assists_minmax  rebounds_minmax\n",
       "0      25        5        11       0.764706           0.125         0.857143\n",
       "1      12        7         8       0.000000           0.375         0.428571\n",
       "2      15        7        10       0.176471           0.375         0.714286\n",
       "3      14        9         6       0.117647           0.625         0.142857\n",
       "4      19       12         6       0.411765           1.000         0.142857\n",
       "5      23        9         5       0.647059           0.625         0.000000\n",
       "6      25        9         9       0.764706           0.625         0.571429\n",
       "7      29        4        12       1.000000           0.000         1.000000"
      ]
     },
     "execution_count": 21,
     "metadata": {},
     "output_type": "execute_result"
    }
   ],
   "source": [
    "df"
   ]
  },
  {
   "cell_type": "markdown",
   "id": "9045bb00",
   "metadata": {},
   "source": [
    "## What is Standardization?\n",
    "Standardization is another scaling technique where the values are centered around the mean with a unit standard deviation. This means that the mean of the attribute becomes zero and the resultant distribution has a unit standard deviation.\n",
    "\n",
    "Here’s the formula for standardization:\n",
    "\n",
    "Standardization = (X - Xmean)/STD"
   ]
  },
  {
   "cell_type": "code",
   "execution_count": 16,
   "id": "700e3dff",
   "metadata": {},
   "outputs": [
    {
     "data": {
      "text/plain": [
       "array([[ 0.82452977, -1.15311332,  1.09619108],\n",
       "       [-1.43207802, -0.31448545, -0.15659873],\n",
       "       [-0.91132238, -0.31448545,  0.67859448],\n",
       "       [-1.08490759,  0.52414242, -0.99179193],\n",
       "       [-0.21698152,  1.78208422, -0.99179193],\n",
       "       [ 0.47735934,  0.52414242, -1.40938853],\n",
       "       [ 0.82452977,  0.52414242,  0.26099788],\n",
       "       [ 1.51887063, -1.57242726,  1.51378768]])"
      ]
     },
     "execution_count": 16,
     "metadata": {},
     "output_type": "execute_result"
    }
   ],
   "source": [
    "Standard_scaler = StandardScaler()\n",
    "  \n",
    "# Scaled feature\n",
    "x_after_Standard_scaler = Standard_scaler.fit_transform(df.values)\n",
    "x_after_Standard_scaler"
   ]
  },
  {
   "cell_type": "code",
   "execution_count": 30,
   "id": "6c5d311e",
   "metadata": {},
   "outputs": [],
   "source": [
    "#ALternatively\n",
    "for i in df.columns:\n",
    "    col = i+'_standard'\n",
    "    df[col] = (df[i]-df[i].mean())/np.std(df[i])"
   ]
  },
  {
   "cell_type": "code",
   "execution_count": 31,
   "id": "15a83ef4",
   "metadata": {},
   "outputs": [
    {
     "data": {
      "text/html": [
       "<div>\n",
       "<style scoped>\n",
       "    .dataframe tbody tr th:only-of-type {\n",
       "        vertical-align: middle;\n",
       "    }\n",
       "\n",
       "    .dataframe tbody tr th {\n",
       "        vertical-align: top;\n",
       "    }\n",
       "\n",
       "    .dataframe thead th {\n",
       "        text-align: right;\n",
       "    }\n",
       "</style>\n",
       "<table border=\"1\" class=\"dataframe\">\n",
       "  <thead>\n",
       "    <tr style=\"text-align: right;\">\n",
       "      <th></th>\n",
       "      <th>points</th>\n",
       "      <th>assists</th>\n",
       "      <th>rebounds</th>\n",
       "      <th>points_standard</th>\n",
       "      <th>assists_standard</th>\n",
       "      <th>rebounds_standard</th>\n",
       "    </tr>\n",
       "  </thead>\n",
       "  <tbody>\n",
       "    <tr>\n",
       "      <th>0</th>\n",
       "      <td>25</td>\n",
       "      <td>5</td>\n",
       "      <td>11</td>\n",
       "      <td>0.824530</td>\n",
       "      <td>-1.153113</td>\n",
       "      <td>1.096191</td>\n",
       "    </tr>\n",
       "    <tr>\n",
       "      <th>1</th>\n",
       "      <td>12</td>\n",
       "      <td>7</td>\n",
       "      <td>8</td>\n",
       "      <td>-1.432078</td>\n",
       "      <td>-0.314485</td>\n",
       "      <td>-0.156599</td>\n",
       "    </tr>\n",
       "    <tr>\n",
       "      <th>2</th>\n",
       "      <td>15</td>\n",
       "      <td>7</td>\n",
       "      <td>10</td>\n",
       "      <td>-0.911322</td>\n",
       "      <td>-0.314485</td>\n",
       "      <td>0.678594</td>\n",
       "    </tr>\n",
       "    <tr>\n",
       "      <th>3</th>\n",
       "      <td>14</td>\n",
       "      <td>9</td>\n",
       "      <td>6</td>\n",
       "      <td>-1.084908</td>\n",
       "      <td>0.524142</td>\n",
       "      <td>-0.991792</td>\n",
       "    </tr>\n",
       "    <tr>\n",
       "      <th>4</th>\n",
       "      <td>19</td>\n",
       "      <td>12</td>\n",
       "      <td>6</td>\n",
       "      <td>-0.216982</td>\n",
       "      <td>1.782084</td>\n",
       "      <td>-0.991792</td>\n",
       "    </tr>\n",
       "    <tr>\n",
       "      <th>5</th>\n",
       "      <td>23</td>\n",
       "      <td>9</td>\n",
       "      <td>5</td>\n",
       "      <td>0.477359</td>\n",
       "      <td>0.524142</td>\n",
       "      <td>-1.409389</td>\n",
       "    </tr>\n",
       "    <tr>\n",
       "      <th>6</th>\n",
       "      <td>25</td>\n",
       "      <td>9</td>\n",
       "      <td>9</td>\n",
       "      <td>0.824530</td>\n",
       "      <td>0.524142</td>\n",
       "      <td>0.260998</td>\n",
       "    </tr>\n",
       "    <tr>\n",
       "      <th>7</th>\n",
       "      <td>29</td>\n",
       "      <td>4</td>\n",
       "      <td>12</td>\n",
       "      <td>1.518871</td>\n",
       "      <td>-1.572427</td>\n",
       "      <td>1.513788</td>\n",
       "    </tr>\n",
       "  </tbody>\n",
       "</table>\n",
       "</div>"
      ],
      "text/plain": [
       "   points  assists  rebounds  points_standard  assists_standard  \\\n",
       "0      25        5        11         0.824530         -1.153113   \n",
       "1      12        7         8        -1.432078         -0.314485   \n",
       "2      15        7        10        -0.911322         -0.314485   \n",
       "3      14        9         6        -1.084908          0.524142   \n",
       "4      19       12         6        -0.216982          1.782084   \n",
       "5      23        9         5         0.477359          0.524142   \n",
       "6      25        9         9         0.824530          0.524142   \n",
       "7      29        4        12         1.518871         -1.572427   \n",
       "\n",
       "   rebounds_standard  \n",
       "0           1.096191  \n",
       "1          -0.156599  \n",
       "2           0.678594  \n",
       "3          -0.991792  \n",
       "4          -0.991792  \n",
       "5          -1.409389  \n",
       "6           0.260998  \n",
       "7           1.513788  "
      ]
     },
     "execution_count": 31,
     "metadata": {},
     "output_type": "execute_result"
    }
   ],
   "source": [
    "df"
   ]
  },
  {
   "cell_type": "markdown",
   "id": "af57be1f",
   "metadata": {},
   "source": [
    "## When to use normalization and standardization\n",
    "- When you don’t know the distribution of your data or when you know it’s not Gaussian, normalization is a smart approach to apply. Normalization is useful when your data has variable scales and the technique you’re employing, such as k-nearest neighbors and artificial neural networks, doesn’t make assumptions about the distribution of your data.\n",
    "- The assumption behind standardization is that your data follows a Gaussian (bell curve) distribution. This isn’t required, however, it helps the approach work better if your attribute distribution is Gaussian. When your data has variable dimensions and the technique you’re using (like logistic regression,  linear regression, linear discriminant analysis) standardization is useful."
   ]
  }
 ],
 "metadata": {
  "kernelspec": {
   "display_name": "Python 3",
   "language": "python",
   "name": "python3"
  },
  "language_info": {
   "codemirror_mode": {
    "name": "ipython",
    "version": 3
   },
   "file_extension": ".py",
   "mimetype": "text/x-python",
   "name": "python",
   "nbconvert_exporter": "python",
   "pygments_lexer": "ipython3",
   "version": "3.8.8"
  }
 },
 "nbformat": 4,
 "nbformat_minor": 5
}
